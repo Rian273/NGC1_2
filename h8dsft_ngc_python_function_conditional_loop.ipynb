{
 "cells": [
  {
   "cell_type": "code",
   "execution_count": 5,
   "metadata": {},
   "outputs": [
    {
     "data": {
      "text/plain": [
       "3"
      ]
     },
     "execution_count": 5,
     "metadata": {},
     "output_type": "execute_result"
    }
   ],
   "source": [
    "# soal 1\n",
    "\n",
    "def numberOfWord(sentence):\n",
    "    word = sentence.split()\n",
    "    howManyWord = len(word)\n",
    "    return howManyWord\n",
    "\n",
    "numberOfWord(\"kemarin malam hujan\")\n",
    "\n",
    "\n",
    "\n",
    "\n"
   ]
  },
  {
   "cell_type": "markdown",
   "metadata": {},
   "source": [
    "instructions:\n",
    "# 1. Create function called `number_of_word`.\n",
    "# 2. This function takes 1 input, `sentence`.\n",
    "# 3. Inside this function, you can utilize `.split()` method to split the sentence into list of word(s)\n",
    "# 4. Also, `len()` function to count the element inside a list\n",
    "# 5. Return the number of word from the sentence."
   ]
  },
  {
   "cell_type": "code",
   "execution_count": 15,
   "metadata": {},
   "outputs": [
    {
     "data": {
      "text/plain": [
       "[3, 6, 9, 12, 15, 18, 21]"
      ]
     },
     "execution_count": 15,
     "metadata": {},
     "output_type": "execute_result"
    }
   ],
   "source": [
    "# soal 2\n",
    "def find_Multiples(startRange, endRange, multiple):\n",
    "    list = []\n",
    "    for x in range(startRange, endRange+1):\n",
    "        if x % multiple == 0:\n",
    "            list.append(x)\n",
    "    return list\n",
    "\n",
    "find_Multiples(1, 21, 3)\n",
    "\n"
   ]
  },
  {
   "cell_type": "markdown",
   "metadata": {},
   "source": [
    "instruction:\n",
    "1.Create function called `find_multiples`.\n",
    "2.This function takes 3 input: `start_range`, `end_range`, and `multiple`.\n",
    "3.From every number within the given range, check if that number is the mutliples of `multiple`.\n",
    "4.Return list of the possible multiple number(s)."
   ]
  },
  {
   "cell_type": "code",
   "execution_count": 18,
   "metadata": {},
   "outputs": [
    {
     "data": {
      "text/plain": [
       "{'Adam': 2.5, 'Faiz': 4}"
      ]
     },
     "execution_count": 18,
     "metadata": {},
     "output_type": "execute_result"
    }
   ],
   "source": [
    "def Grade_Converter(convertTo, **students):\n",
    "    dict = {}\n",
    "    for key, value in students.items():\n",
    "        finalValue = ''\n",
    "        if  convertTo == \"letterGrade\":\n",
    "            if value >= 85 and value <= 100:\n",
    "                finalValue = \"A\"\n",
    "            elif value >= 70 and value <= 84.99:\n",
    "                finalValue = \"A\"\n",
    "            elif value >= 60 and value <= 69.99:\n",
    "                finalValue = \"A\"\n",
    "            elif value >= 50 and value <= 59.99:\n",
    "                finalValue = \"A\"\n",
    "            elif value >= 40 and value <= 49.99:\n",
    "                finalValue = \"A\"\n",
    "            elif value >= 0 and value <= 39.99:\n",
    "                finalValue = \"A\"\n",
    "        elif convertTo == \"gpa\":\n",
    "            if value >= 85 and value <= 100:\n",
    "                finalValue = 4\n",
    "            elif value >= 70 and value <= 84.99:\n",
    "                finalValue = 3\n",
    "            elif value >= 60 and value <= 69.99:\n",
    "                finalValue = 2.5\n",
    "            elif value >= 50 and value <= 59.99:\n",
    "                finalValue = 2\n",
    "            elif value >= 40 and value <= 49.99:\n",
    "                finalValue = 1.5\n",
    "            elif value >= 0 and value <= 39.99:\n",
    "                finalValue = 1\n",
    "        dict[key] = finalValue\n",
    "    return dict\n",
    "Grade_Converter(\"gpa\", Adam=62, Faiz=91)\n",
    "\n",
    "\n",
    "\n",
    "\n"
   ]
  },
  {
   "cell_type": "code",
   "execution_count": 21,
   "metadata": {},
   "outputs": [
    {
     "name": "stdout",
     "output_type": "stream",
     "text": [
      "55\n"
     ]
    }
   ],
   "source": [
    "# Function for nth Fibonacci number\n",
    "\n",
    "def Fibonacci(n):\n",
    "\tif n<0:\n",
    "\t\tprint(\"Incorrect input\")\n",
    "\t# First Fibonacci number is 0\n",
    "\telif n==0:\n",
    "\t\treturn (0)\n",
    "\t# Second Fibonacci number is 1\n",
    "\telif n==1:\n",
    "\t\treturn (1)\n",
    "\telse:\n",
    "\t\treturn (Fibonacci(n-1)+Fibonacci(n-2))\n",
    "\n",
    "# Driver Program\n",
    "\n",
    "print(Fibonacci(10))\n"
   ]
  }
 ],
 "metadata": {
  "kernelspec": {
   "display_name": "base",
   "language": "python",
   "name": "python3"
  },
  "language_info": {
   "codemirror_mode": {
    "name": "ipython",
    "version": 3
   },
   "file_extension": ".py",
   "mimetype": "text/x-python",
   "name": "python",
   "nbconvert_exporter": "python",
   "pygments_lexer": "ipython3",
   "version": "3.11.5"
  }
 },
 "nbformat": 4,
 "nbformat_minor": 2
}
